{
 "cells": [
  {
   "cell_type": "code",
   "execution_count": 52,
   "metadata": {
    "colab": {},
    "colab_type": "code",
    "id": "eu8aDZG-nSy9"
   },
   "outputs": [],
   "source": [
    "import warnings\n",
    "import itertools\n",
    "import numpy as np\n",
    "import matplotlib.pyplot as plt\n",
    "warnings.filterwarnings(\"ignore\")\n",
    "plt.style.use('fivethirtyeight')\n",
    "import pandas as pd\n",
    "import statsmodels.api as sm\n",
    "import matplotlib\n",
    "import matplotlib.pyplot as plt\n",
    "from matplotlib import style\n",
    "style.use('ggplot')\n",
    "from sklearn.cluster import KMeans\n",
    "from sklearn import preprocessing\n",
    "from sklearn.model_selection import cross_validate\n",
    "from sklearn.tree import DecisionTreeClassifier\n",
    "from sklearn.metrics import accuracy_score\n",
    "from sklearn import tree\n",
    "from sklearn.model_selection import train_test_split \n",
    "from sklearn.metrics import confusion_matrix \n",
    "from sklearn.metrics import accuracy_score \n",
    "from sklearn.metrics import classification_report\n",
    "from sklearn.tree import DecisionTreeClassifier\n",
    "from sklearn.model_selection import train_test_split\n",
    "from sklearn.metrics import confusion_matrix\n",
    "from sklearn.tree import export_graphviz\n",
    "#from sklearn.externals.six import StringIO  \n",
    "from IPython.display import Image  \n",
    "# import pydotplus\n",
    "from sklearn import linear_model\n",
    "from sklearn.linear_model import LogisticRegression\n",
    "from sklearn.ensemble import RandomForestClassifier\n",
    "from sklearn.linear_model import Perceptron\n",
    "from sklearn.linear_model import SGDClassifier\n",
    "from sklearn.tree import DecisionTreeClassifier\n",
    "from sklearn.neighbors import KNeighborsClassifier\n",
    "from sklearn.svm import SVC, LinearSVC\n",
    "from sklearn.naive_bayes import GaussianNB\n",
    "from sklearn import mixture\n",
    "\n"
   ]
  },
  {
   "cell_type": "code",
   "execution_count": 53,
   "metadata": {
    "colab": {},
    "colab_type": "code",
    "id": "mHo65ulZni6C"
   },
   "outputs": [],
   "source": [
    "balance_data = pd.read_csv(\"https://raw.githubusercontent.com/rohitgupta29/Jai_Kisan/master/Data/test_dec\")\n",
    "\n",
    "\n"
   ]
  },
  {
   "cell_type": "code",
   "execution_count": null,
   "metadata": {},
   "outputs": [],
   "source": []
  },
  {
   "cell_type": "code",
   "execution_count": null,
   "metadata": {},
   "outputs": [],
   "source": []
  },
  {
   "cell_type": "code",
   "execution_count": null,
   "metadata": {},
   "outputs": [],
   "source": []
  },
  {
   "cell_type": "code",
   "execution_count": null,
   "metadata": {},
   "outputs": [],
   "source": []
  },
  {
   "cell_type": "code",
   "execution_count": 76,
   "metadata": {},
   "outputs": [
    {
     "data": {
      "text/html": [
       "<div>\n",
       "<style scoped>\n",
       "    .dataframe tbody tr th:only-of-type {\n",
       "        vertical-align: middle;\n",
       "    }\n",
       "\n",
       "    .dataframe tbody tr th {\n",
       "        vertical-align: top;\n",
       "    }\n",
       "\n",
       "    .dataframe thead th {\n",
       "        text-align: right;\n",
       "    }\n",
       "</style>\n",
       "<table border=\"1\" class=\"dataframe\">\n",
       "  <thead>\n",
       "    <tr style=\"text-align: right;\">\n",
       "      <th></th>\n",
       "      <th>CROP</th>\n",
       "    </tr>\n",
       "  </thead>\n",
       "  <tbody>\n",
       "    <tr>\n",
       "      <th>0</th>\n",
       "      <td>1</td>\n",
       "    </tr>\n",
       "    <tr>\n",
       "      <th>1</th>\n",
       "      <td>1</td>\n",
       "    </tr>\n",
       "    <tr>\n",
       "      <th>2</th>\n",
       "      <td>1</td>\n",
       "    </tr>\n",
       "    <tr>\n",
       "      <th>3</th>\n",
       "      <td>1</td>\n",
       "    </tr>\n",
       "    <tr>\n",
       "      <th>4</th>\n",
       "      <td>1</td>\n",
       "    </tr>\n",
       "    <tr>\n",
       "      <th>...</th>\n",
       "      <td>...</td>\n",
       "    </tr>\n",
       "    <tr>\n",
       "      <th>12823</th>\n",
       "      <td>47</td>\n",
       "    </tr>\n",
       "    <tr>\n",
       "      <th>12824</th>\n",
       "      <td>47</td>\n",
       "    </tr>\n",
       "    <tr>\n",
       "      <th>12825</th>\n",
       "      <td>47</td>\n",
       "    </tr>\n",
       "    <tr>\n",
       "      <th>12826</th>\n",
       "      <td>47</td>\n",
       "    </tr>\n",
       "    <tr>\n",
       "      <th>12827</th>\n",
       "      <td>47</td>\n",
       "    </tr>\n",
       "  </tbody>\n",
       "</table>\n",
       "<p>12828 rows × 1 columns</p>\n",
       "</div>"
      ],
      "text/plain": [
       "       CROP\n",
       "0         1\n",
       "1         1\n",
       "2         1\n",
       "3         1\n",
       "4         1\n",
       "...     ...\n",
       "12823    47\n",
       "12824    47\n",
       "12825    47\n",
       "12826    47\n",
       "12827    47\n",
       "\n",
       "[12828 rows x 1 columns]"
      ]
     },
     "execution_count": 76,
     "metadata": {},
     "output_type": "execute_result"
    }
   ],
   "source": [
    "df_x = df[['REGION', 'SOWING_TIME', 'Average Soil_pH','SOIL_TYPE']]\n",
    "df_x.head()\n",
    "\n",
    "df_y = df[[\"CROP\"]]\n",
    "df_y"
   ]
  },
  {
   "cell_type": "code",
   "execution_count": 55,
   "metadata": {},
   "outputs": [
    {
     "name": "stdout",
     "output_type": "stream",
     "text": [
      "     CROP          REGION SOWING_TIME  Average Soil_pH           SOIL_TYPE\n",
      "0   Bajra  Andhra Pradesh        June              6.5  black cotton soil \n",
      "1   Bajra  Andhra Pradesh        June              6.5  black cotton soil \n",
      "2   Bajra  Andhra Pradesh        July              6.5  black cotton soil \n",
      "3   Bajra  Andhra Pradesh     January              6.5  black cotton soil \n",
      "4   Bajra  Andhra Pradesh    February              6.5  black cotton soil \n",
      "5   Bajra  Andhra Pradesh       March              6.5  black cotton soil \n",
      "6   Bajra  Andhra Pradesh        June              6.5  black cotton soil \n",
      "7   Bajra  Andhra Pradesh        June              6.5  black cotton soil \n",
      "8   Bajra  Andhra Pradesh        July              6.5  black cotton soil \n",
      "9   Bajra  Andhra Pradesh     January              6.5  black cotton soil \n",
      "10  Bajra  Andhra Pradesh    February              6.5  black cotton soil \n",
      "11  Bajra  Andhra Pradesh       March              6.5  black cotton soil \n",
      "12  Bajra         Gujarat        June              6.5  black cotton soil \n",
      "13  Bajra         Gujarat        July              6.5  black cotton soil \n",
      "14  Bajra         Gujarat        July              6.5  black cotton soil \n",
      "15  Bajra         Gujarat         Feb              6.5  black cotton soil \n",
      "16  Bajra         Gujarat     January              6.5  black cotton soil \n",
      "17  Bajra         Gujarat    February              6.5  black cotton soil \n",
      "18  Bajra         Gujarat       March              6.5  black cotton soil \n",
      "19  Bajra         Gujarat        June              6.5  black cotton soil \n"
     ]
    },
    {
     "data": {
      "text/plain": [
       "(12828, 5)"
      ]
     },
     "execution_count": 55,
     "metadata": {},
     "output_type": "execute_result"
    }
   ],
   "source": [
    "df=balance_data[['CROP', 'REGION', 'SOWING_TIME', 'Average Soil_pH','SOIL_TYPE']].copy()\n",
    "print(df.head(20))\n",
    "df.shape"
   ]
  },
  {
   "cell_type": "code",
   "execution_count": 56,
   "metadata": {},
   "outputs": [],
   "source": [
    "df['CROP']=df['CROP'].str.lower()\n",
    "df['REGION']=df['REGION'].str.lower()\n",
    "df['SOWING_TIME']=df['SOWING_TIME'].str.lower()\n",
    "\n",
    "df['SOIL_TYPE']=df['SOIL_TYPE'].str.lower()"
   ]
  },
  {
   "cell_type": "code",
   "execution_count": 57,
   "metadata": {},
   "outputs": [
    {
     "data": {
      "text/html": [
       "<div>\n",
       "<style scoped>\n",
       "    .dataframe tbody tr th:only-of-type {\n",
       "        vertical-align: middle;\n",
       "    }\n",
       "\n",
       "    .dataframe tbody tr th {\n",
       "        vertical-align: top;\n",
       "    }\n",
       "\n",
       "    .dataframe thead th {\n",
       "        text-align: right;\n",
       "    }\n",
       "</style>\n",
       "<table border=\"1\" class=\"dataframe\">\n",
       "  <thead>\n",
       "    <tr style=\"text-align: right;\">\n",
       "      <th></th>\n",
       "      <th>CROP</th>\n",
       "      <th>REGION</th>\n",
       "      <th>SOWING_TIME</th>\n",
       "      <th>Average Soil_pH</th>\n",
       "      <th>SOIL_TYPE</th>\n",
       "    </tr>\n",
       "  </thead>\n",
       "  <tbody>\n",
       "    <tr>\n",
       "      <th>0</th>\n",
       "      <td>bajra</td>\n",
       "      <td>andhra pradesh</td>\n",
       "      <td>june</td>\n",
       "      <td>6.5</td>\n",
       "      <td>black cotton soil</td>\n",
       "    </tr>\n",
       "    <tr>\n",
       "      <th>1</th>\n",
       "      <td>bajra</td>\n",
       "      <td>andhra pradesh</td>\n",
       "      <td>june</td>\n",
       "      <td>6.5</td>\n",
       "      <td>black cotton soil</td>\n",
       "    </tr>\n",
       "    <tr>\n",
       "      <th>2</th>\n",
       "      <td>bajra</td>\n",
       "      <td>andhra pradesh</td>\n",
       "      <td>july</td>\n",
       "      <td>6.5</td>\n",
       "      <td>black cotton soil</td>\n",
       "    </tr>\n",
       "    <tr>\n",
       "      <th>3</th>\n",
       "      <td>bajra</td>\n",
       "      <td>andhra pradesh</td>\n",
       "      <td>january</td>\n",
       "      <td>6.5</td>\n",
       "      <td>black cotton soil</td>\n",
       "    </tr>\n",
       "    <tr>\n",
       "      <th>4</th>\n",
       "      <td>bajra</td>\n",
       "      <td>andhra pradesh</td>\n",
       "      <td>february</td>\n",
       "      <td>6.5</td>\n",
       "      <td>black cotton soil</td>\n",
       "    </tr>\n",
       "  </tbody>\n",
       "</table>\n",
       "</div>"
      ],
      "text/plain": [
       "    CROP          REGION SOWING_TIME  Average Soil_pH           SOIL_TYPE\n",
       "0  bajra  andhra pradesh        june              6.5  black cotton soil \n",
       "1  bajra  andhra pradesh        june              6.5  black cotton soil \n",
       "2  bajra  andhra pradesh        july              6.5  black cotton soil \n",
       "3  bajra  andhra pradesh     january              6.5  black cotton soil \n",
       "4  bajra  andhra pradesh    february              6.5  black cotton soil "
      ]
     },
     "execution_count": 57,
     "metadata": {},
     "output_type": "execute_result"
    }
   ],
   "source": [
    "df.head()\n"
   ]
  },
  {
   "cell_type": "code",
   "execution_count": 58,
   "metadata": {},
   "outputs": [
    {
     "data": {
      "text/plain": [
       "CROP                 0\n",
       "REGION               0\n",
       "SOWING_TIME        392\n",
       "Average Soil_pH      0\n",
       "SOIL_TYPE            0\n",
       "dtype: int64"
      ]
     },
     "execution_count": 58,
     "metadata": {},
     "output_type": "execute_result"
    }
   ],
   "source": [
    "df.isnull().sum()"
   ]
  },
  {
   "cell_type": "code",
   "execution_count": 59,
   "metadata": {},
   "outputs": [
    {
     "name": "stdout",
     "output_type": "stream",
     "text": [
      "{'bajra': 1, 'jowar': 2, 'lentil': 3, 'horse gram': 4, 'wheat': 5, 'rice': 6, 'red gram': 7, 'ragi': 8, 'oat': 9, 'mungbean': 10, 'maize': 11, 'kidney beans': 12, 'black eyed beans': 13, 'black gram': 14, 'barley': 15, 'cotton': 16, 'jute': 17, 'ricinus (castor)': 18, 'sugarcane': 19, 'lily': 20, 'lotus': 21, 'jasmine': 22, 'petunia': 23, 'rose': 24, 'safflower': 25, 'sunflower': 26, 'zennia': 27, 'peach': 28, 'apple': 29, 'apricot': 30, 'avocado': 31, 'banana': 32, 'barbados cherry': 33, 'cashew trees': 34, 'cherry': 35, 'chikoo': 36, 'cucumber': 37, 'custard apple': 38, 'date palm': 39, 'dragon fruit': 40, 'fig': 41, 'grapes': 42, 'guava': 43, 'jackfruit': 44, 'kiwi': 45, 'lemon': 46}\n"
     ]
    }
   ],
   "source": [
    "\n",
    "import pandas as pd\n",
    "\n",
    "df_updated = df.replace(to_replace ='rice ', value = 'rice', regex = True)\n",
    "\n",
    "\n",
    "\n",
    "\n",
    "\n",
    "save_crop=df_updated[\"CROP\"].unique()\n",
    "crop_dict={}\n",
    "count=1\n",
    "for i in save_crop:\n",
    "  crop_dict[i]=count\n",
    "  count=count+1\n",
    "\n",
    "print(crop_dict)\n",
    "\n"
   ]
  },
  {
   "cell_type": "code",
   "execution_count": 60,
   "metadata": {},
   "outputs": [
    {
     "name": "stdout",
     "output_type": "stream",
     "text": [
      "{'june': 1, 'july': 2, 'january': 3, 'february': 4, 'march': 5, 'august': 6, 'september': 7, 'october': 8, 'november': 9, 'december': 10, 'may': 11, 'april': 12, 'october ': 13, 'april ': 14, 'whole year': 15, 'year long': 16, nan: 17, 'rainy season': 18}\n"
     ]
    }
   ],
   "source": [
    "df[\"SOWING_TIME\"] = df[\"SOWING_TIME\"].replace(to_replace ='february', value = 'feb',regex = True)\n",
    "df[\"SOWING_TIME\"] = df[\"SOWING_TIME\"].replace(to_replace ='june ', value = 'june', regex = True)\n",
    "df[\"SOWING_TIME\"] = df[\"SOWING_TIME\"].replace(to_replace ='april ', value = 'april', regex = True)\n",
    "df[\"SOWING_TIME\"] = df[\"SOWING_TIME\"].replace(to_replace ='december ', value = 'december', regex = True)\n",
    "df[\"SOWING_TIME\"] = df[\"SOWING_TIME\"].replace(to_replace ='october ', value = 'october', regex = True)\n",
    "df[\"SOWING_TIME\"] = df[\"SOWING_TIME\"].replace(to_replace ='april  ', value = 'april', regex = True)\n",
    "df[\"SOWING_TIME\"] = df[\"SOWING_TIME\"].replace(to_replace ='july ', value = 'july', regex = True)  \n",
    "df[\"SOWING_TIME\"] = df[\"SOWING_TIME\"].replace(to_replace ='october  ', value = 'october', regex = True)\n",
    "df[\"SOWING_TIME\"] = df[\"SOWING_TIME\"].replace(to_replace ='feb', value = 'february',regex = True)\n",
    "\n",
    "save_sowing=df[\"SOWING_TIME\"].unique()\n",
    "sowing_dict={}\n",
    "count=1\n",
    "for i in save_sowing:\n",
    "  sowing_dict[i]=count\n",
    "  count=count+1\n",
    "\n",
    "print(sowing_dict)"
   ]
  },
  {
   "cell_type": "code",
   "execution_count": 61,
   "metadata": {},
   "outputs": [],
   "source": [
    "from matplotlib import pyplot as plt\n",
    "\n",
    "from sklearn.tree import DecisionTreeClassifier \n",
    "from sklearn import tree\n",
    "\n"
   ]
  },
  {
   "cell_type": "code",
   "execution_count": null,
   "metadata": {},
   "outputs": [],
   "source": []
  },
  {
   "cell_type": "code",
   "execution_count": 62,
   "metadata": {
    "colab": {
     "base_uri": "https://localhost:8080/",
     "height": 462
    },
    "colab_type": "code",
    "id": "IWmUmGG8nq-r",
    "outputId": "9dd66b2e-cd8d-4fdb-f2fb-96f8247ccebc",
    "scrolled": true
   },
   "outputs": [
    {
     "name": "stdout",
     "output_type": "stream",
     "text": [
      "{'bajra': 1, 'jowar': 2, 'lentil': 3, 'horse gram': 4, 'wheat': 5, 'rice': 6, 'rice ': 7, 'red gram': 8, 'ragi': 9, 'oat': 10, 'mungbean': 11, 'maize': 12, 'kidney beans': 13, 'black eyed beans': 14, 'black gram': 15, 'barley': 16, 'cotton': 17, 'jute': 18, 'ricinus (castor)': 19, 'sugarcane': 20, 'lily': 21, 'lotus': 22, 'jasmine': 23, 'petunia': 24, 'rose': 25, 'safflower': 26, 'sunflower': 27, 'zennia': 28, 'peach': 29, 'apple': 30, 'apricot': 31, 'avocado': 32, 'banana': 33, 'barbados cherry': 34, 'cashew trees': 35, 'cherry': 36, 'chikoo': 37, 'cucumber': 38, 'custard apple': 39, 'date palm': 40, 'dragon fruit': 41, 'fig': 42, 'grapes': 43, 'guava': 44, 'jackfruit': 45, 'kiwi': 46, 'lemon': 47}\n",
      "{'andhra pradesh': 1, 'gujarat': 2, 'haryana  ': 3, 'karnataka': 4, 'madhya pradesh  ': 5, 'maharashtra': 6, 'orissa ': 7, 'rajasthan ': 8, 'uttar pradesh ': 9, 'tamil nadu': 10, 'punjab': 11, 'delhi': 12, 'andra pradesh': 13, 'bihar': 14, 'haryana': 15, 'madhya pradesh': 16, 'rajasthan': 17, 'up': 18, 'uttrakhand': 19, 'west bengal': 20, 'telangana': 21, 'assam': 22, 'chhattisgarh': 23, 'himachal': 24, 'jammu & kashmir': 25, 'madya pradesh': 26, 'uttar pradesh': 27, 'uttarakhand': 28, 'odisha': 29, 'chhatisgarh': 30, 'jharkhand': 31, 'himachal pradesh': 32, 'east madhya pradesh': 33, 'orrissa': 34, 'east uttar pradesh': 35, 'kerela': 36, 'kerala': 37, 'orissa': 38, 'goa': 39, 'gujrat': 40, 'chattisgarh': 41, 'tripura': 42, 'jammu and kashmir': 43, 'maharashtra ': 44, 'north india': 45, 'maharasthra': 46, 'uttranchal': 47, 'punjab ': 48, 'haryana ': 49, 'rajashtan': 50, 'manipur': 51, 'maharshtra': 52, 'hyderabad': 53, 'arunachal pradesh': 54, 'meghalaya': 55, 'mizoram': 56, 'nagaland': 57, 'sikkim': 58, 'andaman and nicobar islands': 59, 'chandigarh': 60, 'dadar and nagar haveli': 61, 'daman and diu': 62, 'lakshadweep': 63, 'puducherry (pondicherry)': 64, 'hilly areas': 65, 'karnataka ': 66, 'orrisa': 67, 'andaman & nicobar islands': 68, 'kolkata': 69, 'pune': 70, 'navsari': 71, 'latur': 72, 'indore': 73, 'chittaurgarh': 74, 'andaman nicobar': 75, 'pondicherry': 76, 'uttaranchal': 77}\n",
      "{'june': 1, 'july': 2, 'january': 3, 'february': 4, 'march': 5, 'august': 6, 'september': 7, 'october': 8, 'november': 9, 'december': 10, 'may': 11, 'april': 12, 'october ': 13, 'april ': 14, 'whole year': 15, 'year long': 16, nan: 17, 'rainy season': 18}\n",
      "{'black cotton soil ': 1, 'clayey loam soil': 2, 'light black soil': 3, 'calcareous alluvial soil': 4, 'lateritic and black cotton soils': 5, 'clay loam': 6, 'fertile, riverine and alluvial': 7, 'clay loam,clayey,loamy ': 8, 'clay loam,clayey,loamy': 9, 'clay loam,clayey,loamy \\n': 10, 'loamy, alluvial': 11, 'alluvial': 12, 'well drained loams': 13, 'red lateritic ': 14, 'well drained, loamy ': 15, 'well drained, aerated deep-loams and silt loams': 16, 'light sandy to heavy clay/ well drained loamy soil': 17, 'red sandy and loamy soils': 18, 'black soils': 19, 'laterite, medium and alluvial soils': 20, 'low organic carbon content and hilly sandy loam soil': 21, 'stiff loamy or heavy soils,black cotton soils or brown alluviums': 22, 'sandy loam, loam and sodic, light & saline soil': 23, 'deep black': 24, 'loamy , aluvial soils': 25, 'deep , sandy loam soils': 26, 'well drained , deep loam': 27, 'sandy loam soil': 28, 'nutrient-rich loamy soil / water gardens': 29, 'well-drained, rich loamy soil': 30, 'light sandy soil': 31, 'sandy-loam, red-loam, silt-loam soils': 32, 'deep, moisture retentive and well drained soils': 33, 'loam mixture': 34, 'sandy and loamy soils': 35, 'sandy loam': 36, 'well-drained, loam soils': 37, 'deep fertile and well drained loamy soils': 38, 'deep,well irrigated, rich loams': 39, 'black cotton soils': 40, 'dry, well-drained, sandy soil': 41, 'sandy-loamy': 42, 'deep sandy loam soil': 43, 'alluvial, sandy loam, red laterite and medium black soils': 44, 'loamy': 45, 'shallow, sandy,deep black soils': 46, 'well drained, deep sandy loam soil': 47, 'sandy loam or clay loam': 48, 'deep, well drained, black and sandy loams': 49, 'well drained sandy loams to clay loams': 50, 'rich, deep, alluvial and well drained soils': 51, 'open textured or lateritic soil': 52, 'deep, rich, well-drained sandy loam soils': 53, 'sandy loamy': 54}\n"
     ]
    }
   ],
   "source": [
    "\n",
    "\n",
    "\n",
    "\n",
    "\n",
    "\n",
    "\n",
    "#CROP \n",
    "\n",
    "save_crop=df[\"CROP\"].unique()\n",
    "crop_dict={}\n",
    "count=1\n",
    "for i in save_crop:\n",
    "  crop_dict[i]=count\n",
    "  count=count+1\n",
    "\n",
    "print(crop_dict)\n",
    "\n",
    "\n",
    "\n",
    "#REGION \n",
    "save_region=df[\"REGION\"].unique()\n",
    "region_dict={}\n",
    "count=1\n",
    "for i in save_region:\n",
    "  region_dict[i]=count\n",
    "  count=count+1\n",
    "\n",
    "print(region_dict)\n",
    "\n",
    "#SOWING TIME \n",
    "\n",
    "save_sowing=df[\"SOWING_TIME\"].unique()\n",
    "sowing_dict={}\n",
    "count=1\n",
    "for i in save_sowing:\n",
    "  sowing_dict[i]=count\n",
    "  count=count+1\n",
    "\n",
    "print(sowing_dict)\n",
    "\n",
    "#ph\n",
    "save_soilph=df[\"Average Soil_pH\"].unique()\n",
    "soilph_dict={}\n",
    "count=1\n",
    "for i in save_soilph:\n",
    "  soilph_dict[i]=count\n",
    "  count=count+1\n",
    "\n",
    "\n",
    "#SOIL TYPE\n",
    "\n",
    "save_soil=df[\"SOIL_TYPE\"].unique()\n",
    "soil_dict={}\n",
    "count=1\n",
    "for i in save_soil:\n",
    "  soil_dict[i]=count\n",
    "  count=count+1\n",
    "\n",
    "print(soil_dict)\n"
   ]
  },
  {
   "cell_type": "code",
   "execution_count": 63,
   "metadata": {
    "colab": {
     "base_uri": "https://localhost:8080/",
     "height": 255
    },
    "colab_type": "code",
    "id": "xkY06waKn2uX",
    "outputId": "a13db577-e0cc-486e-8d57-7a3ae84189c7"
   },
   "outputs": [
    {
     "name": "stdout",
     "output_type": "stream",
     "text": [
      "       CROP  REGION  SOWING_TIME  Average Soil_pH  SOIL_TYPE\n",
      "0         1       1            1              6.5          1\n",
      "1         1       1            1              6.5          1\n",
      "2         1       1            2              6.5          1\n",
      "3         1       1            3              6.5          1\n",
      "4         1       1            4              6.5          1\n",
      "...     ...     ...          ...              ...        ...\n",
      "12823    47      77            4              6.0         54\n",
      "12824    47      20            5              6.0         45\n",
      "12825    47      20            5              6.0         54\n",
      "12826    47      20            4              6.0         45\n",
      "12827    47      20            4              6.0         54\n",
      "\n",
      "[12828 rows x 5 columns]\n"
     ]
    }
   ],
   "source": [
    "#REPLACING THE VALUES GOT IN THE DICTIONARY & REAL VALUES \n",
    "c=0\n",
    "\n",
    "#crop ka \n",
    "for i in crop_dict:\n",
    "  df=df.replace(to_replace=i,value=crop_dict[i])\n",
    "  \n",
    "#region ka \n",
    "for i in region_dict:\n",
    "  df=df.replace(to_replace=i,value=region_dict[i])\n",
    "\n",
    "#sowing ka \n",
    "\n",
    "for i in sowing_dict:\n",
    "  df=df.replace(to_replace=i,value=sowing_dict[i])\n",
    "\n",
    "#soil type ka \n",
    "for i in soil_dict:\n",
    "  df=df.replace(to_replace=i,value=soil_dict[i])\n",
    "\n",
    "print(df)\n"
   ]
  },
  {
   "cell_type": "code",
   "execution_count": 64,
   "metadata": {
    "colab": {},
    "colab_type": "code",
    "id": "amRQsGFyoFGR"
   },
   "outputs": [],
   "source": [
    "def splitdataset(balance_data): \n",
    "  \n",
    "    # Separating the target variable \n",
    "    X = balance_data.values[:, 1:5] \n",
    "    Y = balance_data.values[:, 0] \n",
    "  \n",
    "    # Splitting the dataset into train and test \n",
    "    X_train, X_test, y_train, y_test = train_test_split(  \n",
    "    X, Y, test_size = 0.2, random_state = 100) \n",
    "    \n",
    "    return X, Y, X_train, X_test, y_train, y_test"
   ]
  },
  {
   "cell_type": "code",
   "execution_count": 65,
   "metadata": {
    "colab": {},
    "colab_type": "code",
    "id": "hiRBt_D3n3Bn"
   },
   "outputs": [],
   "source": [
    "X, Y, X_train, X_test, y_train, y_test = splitdataset(df) "
   ]
  },
  {
   "cell_type": "markdown",
   "metadata": {},
   "source": [
    "## Random Forest "
   ]
  },
  {
   "cell_type": "code",
   "execution_count": 87,
   "metadata": {
    "colab": {
     "base_uri": "https://localhost:8080/",
     "height": 34
    },
    "colab_type": "code",
    "id": "7PDT_u82oU7R",
    "outputId": "fcc1fc51-879b-4cef-c4e2-de0f61d94ce8"
   },
   "outputs": [
    {
     "name": "stdout",
     "output_type": "stream",
     "text": [
      "99.93\n"
     ]
    }
   ],
   "source": [
    "random_forest = RandomForestClassifier(n_estimators=100)\n",
    "random_forest.fit(X_train, y_train)\n",
    "\n",
    "Y_prediction_RF = random_forest.predict(X_test)\n",
    "\n",
    "random_forest.score(X_train, y_train)\n",
    "score_rf = round(random_forest.score(X_train, y_train) * 100, 2)\n",
    "print(score_rf)"
   ]
  },
  {
   "cell_type": "code",
   "execution_count": 102,
   "metadata": {},
   "outputs": [
    {
     "name": "stdout",
     "output_type": "stream",
     "text": [
      "[0.93530787 1.         1.         0.64614186 0.06780982 0.11379579\n",
      " 0.09119252 0.23772408 1.         0.11544462]\n"
     ]
    }
   ],
   "source": [
    "from sklearn.model_selection import cross_val_score,KFold\n",
    "kfold=KFold(n_splits=10)\n",
    "score_5=cross_val_score(random_forest,X,Y,scoring ='accuracy',cv=kfold)\n",
    "print(score_5)"
   ]
  },
  {
   "cell_type": "markdown",
   "metadata": {},
   "source": [
    "## Logistic Regression"
   ]
  },
  {
   "cell_type": "code",
   "execution_count": 88,
   "metadata": {
    "colab": {
     "base_uri": "https://localhost:8080/",
     "height": 34
    },
    "colab_type": "code",
    "id": "09lmx4DAoikJ",
    "outputId": "c41ab3f5-1aad-429a-8376-b97f91709a31"
   },
   "outputs": [
    {
     "name": "stdout",
     "output_type": "stream",
     "text": [
      "65.9\n"
     ]
    }
   ],
   "source": [
    "logreg = LogisticRegression()\n",
    "logreg.fit(X_train, y_train)\n",
    "\n",
    "Y_pred_LR = logreg.predict(X_test)\n",
    "\n",
    "score_log = round(logreg.score(X_train, y_train) * 100, 2)\n",
    "print(score_log)"
   ]
  },
  {
   "cell_type": "markdown",
   "metadata": {},
   "source": [
    "## KNN"
   ]
  },
  {
   "cell_type": "code",
   "execution_count": 89,
   "metadata": {
    "colab": {
     "base_uri": "https://localhost:8080/",
     "height": 34
    },
    "colab_type": "code",
    "id": "JQjjegSBokn1",
    "outputId": "1b78ed2e-aa74-4ff3-9120-4e7675741f12"
   },
   "outputs": [
    {
     "name": "stdout",
     "output_type": "stream",
     "text": [
      "99.15\n"
     ]
    }
   ],
   "source": [
    "knn = KNeighborsClassifier(n_neighbors = 3)\n",
    "knn.fit(X_train, y_train) \n",
    "Y_pred_KNN = knn.predict(X_test)\n",
    "score_knn = round(knn.score(X_train, y_train) * 100, 2)\n",
    "print(score_knn)"
   ]
  },
  {
   "cell_type": "code",
   "execution_count": 90,
   "metadata": {
    "colab": {
     "base_uri": "https://localhost:8080/",
     "height": 34
    },
    "colab_type": "code",
    "id": "N47NgQSlomiI",
    "outputId": "bb2166b0-9f05-43e4-c8fd-fbcee7f43b50"
   },
   "outputs": [
    {
     "name": "stdout",
     "output_type": "stream",
     "text": [
      "99.88\n"
     ]
    }
   ],
   "source": [
    "gaussian = GaussianNB()\n",
    "gaussian.fit(X_train, y_train) \n",
    "Y_pred_GNB = gaussian.predict(X_test)\n",
    "score_gaussian = round(gaussian.score(X_train, y_train) * 100, 2)\n",
    "print(score_gaussian)"
   ]
  },
  {
   "cell_type": "markdown",
   "metadata": {},
   "source": [
    "## Linear SVC"
   ]
  },
  {
   "cell_type": "code",
   "execution_count": 91,
   "metadata": {
    "colab": {
     "base_uri": "https://localhost:8080/",
     "height": 34
    },
    "colab_type": "code",
    "id": "pQYPW0wWos3i",
    "outputId": "f2f48761-0268-48ef-82b3-f099e1a776a8"
   },
   "outputs": [
    {
     "name": "stdout",
     "output_type": "stream",
     "text": [
      "52.17\n"
     ]
    }
   ],
   "source": [
    "linear_svc = LinearSVC()\n",
    "linear_svc.fit(X_train, y_train)\n",
    "\n",
    "Y_pred_SVC = linear_svc.predict(X_test)\n",
    "\n",
    "score_lsvc = round(linear_svc.score(X_train, y_train) * 100, 2)\n",
    "print(score_lsvc)"
   ]
  },
  {
   "cell_type": "code",
   "execution_count": 92,
   "metadata": {},
   "outputs": [
    {
     "data": {
      "text/plain": [
       "Index(['REGION', 'SOWING_TIME', 'Average Soil_pH', 'SOIL_TYPE'], dtype='object')"
      ]
     },
     "execution_count": 92,
     "metadata": {},
     "output_type": "execute_result"
    }
   ],
   "source": [
    "df.columns[1:5]"
   ]
  },
  {
   "cell_type": "markdown",
   "metadata": {},
   "source": [
    "## Decision Tree"
   ]
  },
  {
   "cell_type": "code",
   "execution_count": 93,
   "metadata": {
    "colab": {
     "base_uri": "https://localhost:8080/",
     "height": 34
    },
    "colab_type": "code",
    "id": "Ua83sOLeovCF",
    "outputId": "1c796f5a-fc08-45e2-c71f-651b1ef245ab"
   },
   "outputs": [
    {
     "name": "stdout",
     "output_type": "stream",
     "text": [
      "99.93\n"
     ]
    }
   ],
   "source": [
    "decision_tree = DecisionTreeClassifier()\n",
    "decision_tree.fit(X_train, y_train)\n",
    "Y_pred_DT = decision_tree.predict(X_test)\n",
    "score_dt = round(decision_tree.score(X_train, y_train) * 100, 2)\n",
    "print(score_dt)"
   ]
  },
  {
   "cell_type": "code",
   "execution_count": 107,
   "metadata": {},
   "outputs": [
    {
     "name": "stdout",
     "output_type": "stream",
     "text": [
      "[0.93530787 1.         1.         0.64614186 0.06780982 0.11379579\n",
      " 0.14731099 0.23772408 1.         0.11544462]\n",
      "0.39479391490546606\n",
      "[0.93530787 1.         1.         0.64614186 0.07560405 0.11379579\n",
      " 0.37646142 0.23772408 1.         0.11544462]\n",
      "KNeighborsClassifier: 6.181789834736513\n",
      "[0.93530787 1.         1.         0.56196415 0.00935308 0.\n",
      " 0.19095869 0.04442712 0.09048362 0.11544462]\n"
     ]
    },
    {
     "data": {
      "image/png": "[encoded data removed]",
      "text/plain": [
       "<Figure size 720x504 with 1 Axes>"
      ]
     },
     "metadata": {},
     "output_type": "display_data"
    }
   ],
   "source": [
    "from sklearn.model_selection import cross_val_score,KFold\n",
    "kfold=KFold(n_splits=10)\n",
    "score_5=cross_val_score(random_forest,X,Y,scoring ='accuracy',cv=kfold)\n",
    "print(score_5)\n",
    "\n",
    "#log_reg\n",
    "kfold = KFold(n_splits = 10)\n",
    "score_2 = cross_val_score(logreg,X,Y,scoring ='accuracy',cv = kfold) #\n",
    "print(score_2.mean())\n",
    "\n",
    "#decision_tree\n",
    "\n",
    "\n",
    "kfold=KFold(n_splits=10)\n",
    "tree1=DecisionTreeClassifier()\n",
    "score_4=cross_val_score(tree1,X,Y,scoring ='accuracy',cv=kfold)\n",
    "print(score_4)\n",
    "#Knn\n",
    "kfold = KFold(n_splits=3, random_state=None)\n",
    "model=KNeighborsClassifier(3)\n",
    "score_1 = cross_val_score(model, X, Y,scoring ='accuracy', cv=kfold)\n",
    "score_1 *= 100.0\n",
    "print('KNeighborsClassifier:',score_1.mean())\n",
    "#NB\n",
    "\n",
    "gnb = GaussianNB()\n",
    "\n",
    "kfold = KFold(n_splits = 10)\n",
    "score_3 = cross_val_score(logreg,X,Y,scoring ='accuracy',cv = kfold) #\n",
    "print(score_3)\n",
    "#Linear SVC\n",
    "\n",
    "\n",
    "\n",
    "ig = plt.figure(figsize =(10, 7)) \n",
    "plt.boxplot([score_1,score_2,score_3,score_4,score_5])\n",
    "plt.show()"
   ]
  },
  {
   "cell_type": "code",
   "execution_count": 94,
   "metadata": {},
   "outputs": [
    {
     "name": "stdout",
     "output_type": "stream",
     "text": [
      "|--- feature_3 <= 2.50\n",
      "|   |--- feature_2 <= 6.88\n",
      "|   |   |--- feature_2 <= 6.62\n",
      "|   |   |   |--- class: 1.0\n",
      "|   |   |--- feature_2 >  6.62\n",
      "|   |   |   |--- class: 2.0\n",
      "|   |--- feature_2 >  6.88\n",
      "|   |   |--- class: 43.0\n",
      "|--- feature_3 >  2.50\n",
      "|   |--- feature_3 <= 50.50\n",
      "|   |   |--- feature_3 <= 4.50\n",
      "|   |   |   |--- class: 3.0\n",
      "|   |   |--- feature_3 >  4.50\n",
      "|   |   |   |--- feature_2 <= 7.12\n",
      "|   |   |   |   |--- feature_2 <= 6.88\n",
      "|   |   |   |   |   |--- feature_3 <= 44.00\n",
      "|   |   |   |   |   |   |--- feature_2 <= 5.67\n",
      "|   |   |   |   |   |   |   |--- feature_3 <= 21.00\n",
      "|   |   |   |   |   |   |   |   |--- class: 13.0\n",
      "|   |   |   |   |   |   |   |--- feature_3 >  21.00\n",
      "|   |   |   |   |   |   |   |   |--- class: 18.0\n",
      "|   |   |   |   |   |   |--- feature_2 >  5.67\n",
      "|   |   |   |   |   |   |   |--- feature_3 <= 13.00\n",
      "|   |   |   |   |   |   |   |   |--- feature_3 <= 6.50\n",
      "|   |   |   |   |   |   |   |   |   |--- feature_2 <= 6.25\n",
      "|   |   |   |   |   |   |   |   |   |   |--- feature_1 <= 11.00\n",
      "|   |   |   |   |   |   |   |   |   |   |   |--- truncated branch of depth 7\n",
      "|   |   |   |   |   |   |   |   |   |   |--- feature_1 >  11.00\n",
      "|   |   |   |   |   |   |   |   |   |   |   |--- class: 5.0\n",
      "|   |   |   |   |   |   |   |   |   |--- feature_2 >  6.25\n",
      "|   |   |   |   |   |   |   |   |   |   |--- feature_3 <= 5.50\n",
      "|   |   |   |   |   |   |   |   |   |   |   |--- class: 4.0\n",
      "|   |   |   |   |   |   |   |   |   |   |--- feature_3 >  5.50\n",
      "|   |   |   |   |   |   |   |   |   |   |   |--- class: 29.0\n",
      "|   |   |   |   |   |   |   |   |--- feature_3 >  6.50\n",
      "|   |   |   |   |   |   |   |   |   |--- feature_3 <= 10.50\n",
      "|   |   |   |   |   |   |   |   |   |   |--- class: 6.0\n",
      "|   |   |   |   |   |   |   |   |   |--- feature_3 >  10.50\n",
      "|   |   |   |   |   |   |   |   |   |   |--- feature_3 <= 11.50\n",
      "|   |   |   |   |   |   |   |   |   |   |   |--- truncated branch of depth 2\n",
      "|   |   |   |   |   |   |   |   |   |   |--- feature_3 >  11.50\n",
      "|   |   |   |   |   |   |   |   |   |   |   |--- class: 6.0\n",
      "|   |   |   |   |   |   |   |--- feature_3 >  13.00\n",
      "|   |   |   |   |   |   |   |   |--- feature_3 <= 35.50\n",
      "|   |   |   |   |   |   |   |   |   |--- feature_3 <= 34.50\n",
      "|   |   |   |   |   |   |   |   |   |   |--- feature_2 <= 6.60\n",
      "|   |   |   |   |   |   |   |   |   |   |   |--- truncated branch of depth 6\n",
      "|   |   |   |   |   |   |   |   |   |   |--- feature_2 >  6.60\n",
      "|   |   |   |   |   |   |   |   |   |   |   |--- truncated branch of depth 2\n",
      "|   |   |   |   |   |   |   |   |   |--- feature_3 >  34.50\n",
      "|   |   |   |   |   |   |   |   |   |   |--- class: 28.0\n",
      "|   |   |   |   |   |   |   |   |--- feature_3 >  35.50\n",
      "|   |   |   |   |   |   |   |   |   |--- feature_2 <= 6.33\n",
      "|   |   |   |   |   |   |   |   |   |   |--- feature_2 <= 6.12\n",
      "|   |   |   |   |   |   |   |   |   |   |   |--- truncated branch of depth 2\n",
      "|   |   |   |   |   |   |   |   |   |   |--- feature_2 >  6.12\n",
      "|   |   |   |   |   |   |   |   |   |   |   |--- class: 32.0\n",
      "|   |   |   |   |   |   |   |   |   |--- feature_2 >  6.33\n",
      "|   |   |   |   |   |   |   |   |   |   |--- feature_3 <= 37.00\n",
      "|   |   |   |   |   |   |   |   |   |   |   |--- class: 29.0\n",
      "|   |   |   |   |   |   |   |   |   |   |--- feature_3 >  37.00\n",
      "|   |   |   |   |   |   |   |   |   |   |   |--- truncated branch of depth 2\n",
      "|   |   |   |   |   |--- feature_3 >  44.00\n",
      "|   |   |   |   |   |   |--- feature_3 <= 45.50\n",
      "|   |   |   |   |   |   |   |--- class: 47.0\n",
      "|   |   |   |   |   |   |--- feature_3 >  45.50\n",
      "|   |   |   |   |   |   |   |--- feature_3 <= 49.00\n",
      "|   |   |   |   |   |   |   |   |--- feature_0 <= 55.00\n",
      "|   |   |   |   |   |   |   |   |   |--- class: 39.0\n",
      "|   |   |   |   |   |   |   |   |--- feature_0 >  55.00\n",
      "|   |   |   |   |   |   |   |   |   |--- class: 41.0\n",
      "|   |   |   |   |   |   |   |--- feature_3 >  49.00\n",
      "|   |   |   |   |   |   |   |   |--- class: 44.0\n",
      "|   |   |   |   |--- feature_2 >  6.88\n",
      "|   |   |   |   |   |--- feature_3 <= 40.50\n",
      "|   |   |   |   |   |   |--- feature_3 <= 26.00\n",
      "|   |   |   |   |   |   |   |--- class: 15.0\n",
      "|   |   |   |   |   |   |--- feature_3 >  26.00\n",
      "|   |   |   |   |   |   |   |--- feature_3 <= 34.50\n",
      "|   |   |   |   |   |   |   |   |--- class: 23.0\n",
      "|   |   |   |   |   |   |   |--- feature_3 >  34.50\n",
      "|   |   |   |   |   |   |   |   |--- class: 33.0\n",
      "|   |   |   |   |   |--- feature_3 >  40.50\n",
      "|   |   |   |   |   |   |--- feature_3 <= 42.50\n",
      "|   |   |   |   |   |   |   |--- class: 34.0\n",
      "|   |   |   |   |   |   |--- feature_3 >  42.50\n",
      "|   |   |   |   |   |   |   |--- class: 37.0\n",
      "|   |   |   |--- feature_2 >  7.12\n",
      "|   |   |   |   |--- feature_3 <= 37.00\n",
      "|   |   |   |   |   |--- feature_3 <= 26.00\n",
      "|   |   |   |   |   |   |--- feature_3 <= 18.00\n",
      "|   |   |   |   |   |   |   |--- class: 8.0\n",
      "|   |   |   |   |   |   |--- feature_3 >  18.00\n",
      "|   |   |   |   |   |   |   |--- class: 16.0\n",
      "|   |   |   |   |   |--- feature_3 >  26.00\n",
      "|   |   |   |   |   |   |--- class: 22.0\n",
      "|   |   |   |   |--- feature_3 >  37.00\n",
      "|   |   |   |   |   |--- feature_2 <= 7.38\n",
      "|   |   |   |   |   |   |--- class: 38.0\n",
      "|   |   |   |   |   |--- feature_2 >  7.38\n",
      "|   |   |   |   |   |   |--- feature_3 <= 48.00\n",
      "|   |   |   |   |   |   |   |--- class: 40.0\n",
      "|   |   |   |   |   |   |--- feature_3 >  48.00\n",
      "|   |   |   |   |   |   |   |--- class: 42.0\n",
      "|   |--- feature_3 >  50.50\n",
      "|   |   |--- feature_3 <= 52.50\n",
      "|   |   |   |--- class: 45.0\n",
      "|   |   |--- feature_3 >  52.50\n",
      "|   |   |   |--- feature_2 <= 6.05\n",
      "|   |   |   |   |--- class: 47.0\n",
      "|   |   |   |--- feature_2 >  6.05\n",
      "|   |   |   |   |--- class: 46.0\n",
      "\n"
     ]
    }
   ],
   "source": [
    "text_representation = tree.export_text(decision_tree)\n",
    "print(text_representation)"
   ]
  },
  {
   "cell_type": "code",
   "execution_count": 95,
   "metadata": {},
   "outputs": [
    {
     "ename": "IndexError",
     "evalue": "index 1 is out of bounds for axis 0 with size 1",
     "output_type": "error",
     "traceback": [
      "\u001b[1;31m---------------------------------------------------------------------------\u001b[0m",
      "\u001b[1;31mIndexError\u001b[0m                                Traceback (most recent call last)",
      "\u001b[1;32m<ipython-input-95-194e1bcaed3e>\u001b[0m in \u001b[0;36m<module>\u001b[1;34m\u001b[0m\n\u001b[0;32m      3\u001b[0m                    \u001b[0mfeature_names\u001b[0m\u001b[1;33m=\u001b[0m\u001b[0mdf_x\u001b[0m\u001b[1;33m.\u001b[0m\u001b[0mcolumns\u001b[0m\u001b[1;33m.\u001b[0m\u001b[0mvalues\u001b[0m\u001b[1;33m,\u001b[0m\u001b[1;33m\u001b[0m\u001b[1;33m\u001b[0m\u001b[0m\n\u001b[0;32m      4\u001b[0m                    \u001b[0mclass_names\u001b[0m\u001b[1;33m=\u001b[0m\u001b[0mdf_y\u001b[0m\u001b[1;33m.\u001b[0m\u001b[0mcolumns\u001b[0m\u001b[1;33m.\u001b[0m\u001b[0mvalues\u001b[0m\u001b[1;33m,\u001b[0m\u001b[1;33m\u001b[0m\u001b[1;33m\u001b[0m\u001b[0m\n\u001b[1;32m----> 5\u001b[1;33m                    filled=True )\n\u001b[0m",
      "\u001b[1;32mC:\\ProgramData\\Anaconda3\\lib\\site-packages\\sklearn\\utils\\validation.py\u001b[0m in \u001b[0;36minner_f\u001b[1;34m(*args, **kwargs)\u001b[0m\n\u001b[0;32m     70\u001b[0m                           FutureWarning)\n\u001b[0;32m     71\u001b[0m         \u001b[0mkwargs\u001b[0m\u001b[1;33m.\u001b[0m\u001b[0mupdate\u001b[0m\u001b[1;33m(\u001b[0m\u001b[1;33m{\u001b[0m\u001b[0mk\u001b[0m\u001b[1;33m:\u001b[0m \u001b[0marg\u001b[0m \u001b[1;32mfor\u001b[0m \u001b[0mk\u001b[0m\u001b[1;33m,\u001b[0m \u001b[0marg\u001b[0m \u001b[1;32min\u001b[0m \u001b[0mzip\u001b[0m\u001b[1;33m(\u001b[0m\u001b[0msig\u001b[0m\u001b[1;33m.\u001b[0m\u001b[0mparameters\u001b[0m\u001b[1;33m,\u001b[0m \u001b[0margs\u001b[0m\u001b[1;33m)\u001b[0m\u001b[1;33m}\u001b[0m\u001b[1;33m)\u001b[0m\u001b[1;33m\u001b[0m\u001b[1;33m\u001b[0m\u001b[0m\n\u001b[1;32m---> 72\u001b[1;33m         \u001b[1;32mreturn\u001b[0m \u001b[0mf\u001b[0m\u001b[1;33m(\u001b[0m\u001b[1;33m**\u001b[0m\u001b[0mkwargs\u001b[0m\u001b[1;33m)\u001b[0m\u001b[1;33m\u001b[0m\u001b[1;33m\u001b[0m\u001b[0m\n\u001b[0m\u001b[0;32m     73\u001b[0m     \u001b[1;32mreturn\u001b[0m \u001b[0minner_f\u001b[0m\u001b[1;33m\u001b[0m\u001b[1;33m\u001b[0m\u001b[0m\n\u001b[0;32m     74\u001b[0m \u001b[1;33m\u001b[0m\u001b[0m\n",
      "\u001b[1;32mC:\\ProgramData\\Anaconda3\\lib\\site-packages\\sklearn\\tree\\_export.py\u001b[0m in \u001b[0;36mplot_tree\u001b[1;34m(decision_tree, max_depth, feature_names, class_names, label, filled, impurity, node_ids, proportion, rotate, rounded, precision, ax, fontsize)\u001b[0m\n\u001b[0;32m    191\u001b[0m         \u001b[0mproportion\u001b[0m\u001b[1;33m=\u001b[0m\u001b[0mproportion\u001b[0m\u001b[1;33m,\u001b[0m \u001b[0mrotate\u001b[0m\u001b[1;33m=\u001b[0m\u001b[0mrotate\u001b[0m\u001b[1;33m,\u001b[0m \u001b[0mrounded\u001b[0m\u001b[1;33m=\u001b[0m\u001b[0mrounded\u001b[0m\u001b[1;33m,\u001b[0m\u001b[1;33m\u001b[0m\u001b[1;33m\u001b[0m\u001b[0m\n\u001b[0;32m    192\u001b[0m         precision=precision, fontsize=fontsize)\n\u001b[1;32m--> 193\u001b[1;33m     \u001b[1;32mreturn\u001b[0m \u001b[0mexporter\u001b[0m\u001b[1;33m.\u001b[0m\u001b[0mexport\u001b[0m\u001b[1;33m(\u001b[0m\u001b[0mdecision_tree\u001b[0m\u001b[1;33m,\u001b[0m \u001b[0max\u001b[0m\u001b[1;33m=\u001b[0m\u001b[0max\u001b[0m\u001b[1;33m)\u001b[0m\u001b[1;33m\u001b[0m\u001b[1;33m\u001b[0m\u001b[0m\n\u001b[0m\u001b[0;32m    194\u001b[0m \u001b[1;33m\u001b[0m\u001b[0m\n\u001b[0;32m    195\u001b[0m \u001b[1;33m\u001b[0m\u001b[0m\n",
      "\u001b[1;32mC:\\ProgramData\\Anaconda3\\lib\\site-packages\\sklearn\\tree\\_export.py\u001b[0m in \u001b[0;36mexport\u001b[1;34m(self, decision_tree, ax)\u001b[0m\n\u001b[0;32m    583\u001b[0m         \u001b[0max\u001b[0m\u001b[1;33m.\u001b[0m\u001b[0mset_axis_off\u001b[0m\u001b[1;33m(\u001b[0m\u001b[1;33m)\u001b[0m\u001b[1;33m\u001b[0m\u001b[1;33m\u001b[0m\u001b[0m\n\u001b[0;32m    584\u001b[0m         my_tree = self._make_tree(0, decision_tree.tree_,\n\u001b[1;32m--> 585\u001b[1;33m                                   decision_tree.criterion)\n\u001b[0m\u001b[0;32m    586\u001b[0m         \u001b[0mdraw_tree\u001b[0m \u001b[1;33m=\u001b[0m \u001b[0mbuchheim\u001b[0m\u001b[1;33m(\u001b[0m\u001b[0mmy_tree\u001b[0m\u001b[1;33m)\u001b[0m\u001b[1;33m\u001b[0m\u001b[1;33m\u001b[0m\u001b[0m\n\u001b[0;32m    587\u001b[0m \u001b[1;33m\u001b[0m\u001b[0m\n",
      "\u001b[1;32mC:\\ProgramData\\Anaconda3\\lib\\site-packages\\sklearn\\tree\\_export.py\u001b[0m in \u001b[0;36m_make_tree\u001b[1;34m(self, node_id, et, criterion, depth)\u001b[0m\n\u001b[0;32m    563\u001b[0m         \u001b[1;31m# traverses _tree.Tree recursively, builds intermediate\u001b[0m\u001b[1;33m\u001b[0m\u001b[1;33m\u001b[0m\u001b[1;33m\u001b[0m\u001b[0m\n\u001b[0;32m    564\u001b[0m         \u001b[1;31m# \"_reingold_tilford.Tree\" object\u001b[0m\u001b[1;33m\u001b[0m\u001b[1;33m\u001b[0m\u001b[1;33m\u001b[0m\u001b[0m\n\u001b[1;32m--> 565\u001b[1;33m         \u001b[0mname\u001b[0m \u001b[1;33m=\u001b[0m \u001b[0mself\u001b[0m\u001b[1;33m.\u001b[0m\u001b[0mnode_to_str\u001b[0m\u001b[1;33m(\u001b[0m\u001b[0met\u001b[0m\u001b[1;33m,\u001b[0m \u001b[0mnode_id\u001b[0m\u001b[1;33m,\u001b[0m \u001b[0mcriterion\u001b[0m\u001b[1;33m=\u001b[0m\u001b[0mcriterion\u001b[0m\u001b[1;33m)\u001b[0m\u001b[1;33m\u001b[0m\u001b[1;33m\u001b[0m\u001b[0m\n\u001b[0m\u001b[0;32m    566\u001b[0m         if (et.children_left[node_id] != _tree.TREE_LEAF\n\u001b[0;32m    567\u001b[0m                 and (self.max_depth is None or depth <= self.max_depth)):\n",
      "\u001b[1;32mC:\\ProgramData\\Anaconda3\\lib\\site-packages\\sklearn\\tree\\_export.py\u001b[0m in \u001b[0;36mnode_to_str\u001b[1;34m(self, tree, node_id, criterion)\u001b[0m\n\u001b[0;32m    352\u001b[0m                 \u001b[0mnode_string\u001b[0m \u001b[1;33m+=\u001b[0m \u001b[1;34m'class = '\u001b[0m\u001b[1;33m\u001b[0m\u001b[1;33m\u001b[0m\u001b[0m\n\u001b[0;32m    353\u001b[0m             \u001b[1;32mif\u001b[0m \u001b[0mself\u001b[0m\u001b[1;33m.\u001b[0m\u001b[0mclass_names\u001b[0m \u001b[1;32mis\u001b[0m \u001b[1;32mnot\u001b[0m \u001b[1;32mTrue\u001b[0m\u001b[1;33m:\u001b[0m\u001b[1;33m\u001b[0m\u001b[1;33m\u001b[0m\u001b[0m\n\u001b[1;32m--> 354\u001b[1;33m                 \u001b[0mclass_name\u001b[0m \u001b[1;33m=\u001b[0m \u001b[0mself\u001b[0m\u001b[1;33m.\u001b[0m\u001b[0mclass_names\u001b[0m\u001b[1;33m[\u001b[0m\u001b[0mnp\u001b[0m\u001b[1;33m.\u001b[0m\u001b[0margmax\u001b[0m\u001b[1;33m(\u001b[0m\u001b[0mvalue\u001b[0m\u001b[1;33m)\u001b[0m\u001b[1;33m]\u001b[0m\u001b[1;33m\u001b[0m\u001b[1;33m\u001b[0m\u001b[0m\n\u001b[0m\u001b[0;32m    355\u001b[0m             \u001b[1;32melse\u001b[0m\u001b[1;33m:\u001b[0m\u001b[1;33m\u001b[0m\u001b[1;33m\u001b[0m\u001b[0m\n\u001b[0;32m    356\u001b[0m                 class_name = \"y%s%s%s\" % (characters[1],\n",
      "\u001b[1;31mIndexError\u001b[0m: index 1 is out of bounds for axis 0 with size 1"
     ]
    },
    {
     "data": {
      "image/png": "[encoded data removed]",
      "text/plain": [
       "<Figure size 1800x1440 with 1 Axes>"
      ]
     },
     "metadata": {},
     "output_type": "display_data"
    }
   ],
   "source": [
    "fig = plt.figure(figsize=(25,20))\n",
    "_ = tree.plot_tree(decision_tree, \n",
    "                   feature_names=df_x.columns.values,  \n",
    "                   class_names=df_y.columns.values,\n",
    "                   filled=True )"
   ]
  },
  {
   "cell_type": "code",
   "execution_count": null,
   "metadata": {},
   "outputs": [],
   "source": [
    "!pip install graphviz"
   ]
  },
  {
   "cell_type": "code",
   "execution_count": null,
   "metadata": {},
   "outputs": [],
   "source": [
    "!pip install pydotplus"
   ]
  },
  {
   "cell_type": "code",
   "execution_count": null,
   "metadata": {},
   "outputs": [],
   "source": [
    "import graphviz\n",
    "# DOT data\n",
    "dot_data = tree.export_graphviz(decision_tree, out_file=None, \n",
    "                                feature_names=df_x.columns.values \n",
    "                                class_names= df_y.columns.values,\n",
    "                                #filled=True)\n",
    "\n",
    "# Draw graph\n",
    "graph = graphviz.Source(dot_data, format=\"png\" ) \n"
   ]
  },
  {
   "cell_type": "code",
   "execution_count": null,
   "metadata": {},
   "outputs": [],
   "source": [
    "import graphviz \n",
    "tree1_view = tree.export_graphviz(decision_tree, out_file=None, feature_names = df_x.columns.values, rotate=True) \n",
    "tree1viz = graphviz.Source(tree1_view)\n",
    "tree1viz"
   ]
  },
  {
   "cell_type": "markdown",
   "metadata": {},
   "source": [
    "## Gaussian Mixture"
   ]
  },
  {
   "cell_type": "code",
   "execution_count": null,
   "metadata": {
    "colab": {
     "base_uri": "https://localhost:8080/",
     "height": 136
    },
    "colab_type": "code",
    "id": "V2Asrp2l1PTb",
    "outputId": "5e102c20-dca2-404a-cc39-2955945809a9"
   },
   "outputs": [],
   "source": [
    "# GMM \n",
    "\n",
    "gmm=mixture.GaussianMixture()\n",
    "gmm.fit(X_train,y_train)\n",
    "Y_pred=gmm.predict(X_test)\n",
    "acc_gmm=round(gmm.score(X_train,y_train)*100,2)\n",
    "print(acc_gmm)\n",
    "X_train"
   ]
  },
  {
   "cell_type": "code",
   "execution_count": 96,
   "metadata": {
    "colab": {},
    "colab_type": "code",
    "id": "fVufKNpwoxs0"
   },
   "outputs": [],
   "source": [
    "import pickle"
   ]
  },
  {
   "cell_type": "code",
   "execution_count": 97,
   "metadata": {
    "colab": {},
    "colab_type": "code",
    "id": "tH1vX8CNo4E-"
   },
   "outputs": [],
   "source": [
    "pickle.dump(knn , open(\"knn.pkl\", \"wb\"))\n",
    "pickle.dump(gaussian , open(\"gaussian.pkl\", \"wb\"))\n"
   ]
  },
  {
   "cell_type": "code",
   "execution_count": null,
   "metadata": {
    "colab": {},
    "colab_type": "code",
    "id": "svmqAIAJo5gU"
   },
   "outputs": [],
   "source": []
  },
  {
   "cell_type": "code",
   "execution_count": 98,
   "metadata": {
    "colab": {
     "base_uri": "https://localhost:8080/",
     "height": 34
    },
    "colab_type": "code",
    "id": "w7M9LbTyo6sE",
    "outputId": "c03da5f7-dfc6-4ca2-9d24-a1711aed0ff8"
   },
   "outputs": [],
   "source": [
    "# model = pickle.load(open('knn.pkl','rb'))\n",
    "# print(model.predict([[2,3,6.75,1]]))"
   ]
  },
  {
   "cell_type": "code",
   "execution_count": null,
   "metadata": {},
   "outputs": [],
   "source": [
    "\n"
   ]
  },
  {
   "cell_type": "code",
   "execution_count": null,
   "metadata": {},
   "outputs": [],
   "source": []
  },
  {
   "cell_type": "code",
   "execution_count": 99,
   "metadata": {},
   "outputs": [
    {
     "data": {
      "image/png": "[encoded data removed]",
      "text/plain": [
       "<Figure size 720x504 with 1 Axes>"
      ]
     },
     "metadata": {},
     "output_type": "display_data"
    }
   ],
   "source": [
    "ig = plt.figure(figsize =(10, 7)) \n",
    "plt.boxplot([score_rf,score_log,score_lsvc,score_gaussian,score_knn])\n",
    "plt.show()"
   ]
  },
  {
   "cell_type": "markdown",
   "metadata": {},
   "source": [
    "## Hard Voting"
   ]
  },
  {
   "cell_type": "code",
   "execution_count": null,
   "metadata": {
    "colab": {},
    "colab_type": "code",
    "id": "EAPjuTUdo9He"
   },
   "outputs": [],
   "source": [
    "from sklearn.ensemble import VotingClassifier\n",
    "\n",
    "model_hard = VotingClassifier(estimators=[('rf',random_forest), ('LR', logreg),('GNB', gaussian),('DT', decision_tree),('KNN', knn)], voting='hard')\n"
   ]
  },
  {
   "cell_type": "code",
   "execution_count": null,
   "metadata": {},
   "outputs": [],
   "source": [
    "model_hard"
   ]
  },
  {
   "cell_type": "code",
   "execution_count": null,
   "metadata": {},
   "outputs": [],
   "source": [
    "model_hard.fit(X_train,y_train)\n",
    "# model.score(X_test,y_test)"
   ]
  },
  {
   "cell_type": "code",
   "execution_count": null,
   "metadata": {},
   "outputs": [],
   "source": [
    "ans_pred=model_hard.predict(X_test)"
   ]
  },
  {
   "cell_type": "code",
   "execution_count": null,
   "metadata": {},
   "outputs": [],
   "source": [
    "score_ensemble = accuracy_score(y_test, ans_pred)*100\n",
    "score_ensemble \n",
    "\n",
    "pickle.dump(model_hard , open(\"model_hard.pkl\", \"wb\"))\n",
    "\n",
    "\n",
    "\n",
    "model = pickle.load(open('model_hard.pkl','rb'))\n",
    "q=model.predict([[5,6,7,6]])"
   ]
  },
  {
   "cell_type": "markdown",
   "metadata": {},
   "source": [
    "## Soft Voting"
   ]
  },
  {
   "cell_type": "code",
   "execution_count": null,
   "metadata": {},
   "outputs": [],
   "source": [
    "model_soft = VotingClassifier(estimators=[('rf',random_forest), ('LR', logreg),('GNB', gaussian),('DT', decision_tree),('KNN', knn)], voting='soft')"
   ]
  },
  {
   "cell_type": "code",
   "execution_count": null,
   "metadata": {},
   "outputs": [],
   "source": [
    "model_soft.fit(X_train,y_train)\n",
    "ans_soft=model_soft.predict(X_test)\n",
    "score_ensemble_soft = ((accuracy_score(y_test, ans_soft)) *100)\n",
    "score_ensemble_soft"
   ]
  },
  {
   "cell_type": "code",
   "execution_count": null,
   "metadata": {},
   "outputs": [],
   "source": []
  },
  {
   "cell_type": "code",
   "execution_count": null,
   "metadata": {},
   "outputs": [],
   "source": [
    "\n"
   ]
  },
  {
   "cell_type": "code",
   "execution_count": null,
   "metadata": {},
   "outputs": [],
   "source": []
  },
  {
   "cell_type": "code",
   "execution_count": null,
   "metadata": {},
   "outputs": [],
   "source": [
    "Y_pred_KNN"
   ]
  },
  {
   "cell_type": "code",
   "execution_count": null,
   "metadata": {},
   "outputs": [],
   "source": [
    "if crop_dict.value"
   ]
  },
  {
   "cell_type": "code",
   "execution_count": null,
   "metadata": {},
   "outputs": [],
   "source": [
    "print(crop_dict.values)"
   ]
  },
  {
   "cell_type": "code",
   "execution_count": null,
   "metadata": {},
   "outputs": [],
   "source": [
    "for i in crop_dict:\n",
    "    if crop_dict[i]==q:\n",
    "        print(i)"
   ]
  },
  {
   "cell_type": "code",
   "execution_count": null,
   "metadata": {},
   "outputs": [],
   "source": [
    "i.values()\n",
    "\n"
   ]
  },
  {
   "cell_type": "code",
   "execution_count": null,
   "metadata": {},
   "outputs": [],
   "source": [
    "r=input('REGION:')\n",
    "s=input('SOWING_TIME:')\n",
    "a=input('Average Soil_pH:')\n",
    "st=input('SOIL_TYPE:')"
   ]
  },
  {
   "cell_type": "code",
   "execution_count": null,
   "metadata": {},
   "outputs": [],
   "source": [
    "st=input('SOIL_TYPE:')"
   ]
  },
  {
   "cell_type": "code",
   "execution_count": null,
   "metadata": {},
   "outputs": [],
   "source": [
    "#Gujarat        June              6.5  black cotton soil\n",
    "region_dict\n",
    "sowing_dic\n",
    "soil_dict\n",
    "soilph_dict\n",
    "black cotton soil\n",
    "\n",
    "black cotton soil \n",
    "clayey loam soil\n",
    "light black soil\n",
    "calcareous alluvial soil\n",
    "Lateritic and black cotton soils\n",
    "Clay loa"
   ]
  },
  {
   "cell_type": "code",
   "execution_count": null,
   "metadata": {},
   "outputs": [],
   "source": [
    "\n",
    "pre=[]\n",
    "for i in region_dict:\n",
    "    if i==r:\n",
    "        print(region_dict[i])\n",
    "        pre.append(region_dict[i])"
   ]
  },
  {
   "cell_type": "code",
   "execution_count": null,
   "metadata": {},
   "outputs": [],
   "source": [
    "for i in sowing_dict:\n",
    "    if i==s:\n",
    "        print(sowing_dict[i])\n",
    "        pre.append(sowing_dict[i])"
   ]
  },
  {
   "cell_type": "code",
   "execution_count": null,
   "metadata": {},
   "outputs": [],
   "source": [
    "for i in soilph_dict:\n",
    "    if str(i)==a:\n",
    "        print(soilph_dict[i])\n",
    "        pre.append(i) \n",
    "        \n",
    "for i in soil_dict:\n",
    "    if i=='black cotton soil\\xa0':\n",
    "        print(soil_dict[i])\n",
    "        pre.append(soil_dict[i])\n",
    "       \n"
   ]
  },
  {
   "cell_type": "code",
   "execution_count": null,
   "metadata": {},
   "outputs": [],
   "source": [
    "\n",
    "\n",
    "pre"
   ]
  },
  {
   "cell_type": "code",
   "execution_count": null,
   "metadata": {},
   "outputs": [],
   "source": [
    "type(i)\n",
    "h=i.astype(np.float)\n",
    "type(h)"
   ]
  },
  {
   "cell_type": "code",
   "execution_count": null,
   "metadata": {},
   "outputs": [],
   "source": [
    "predicions"
   ]
  },
  {
   "cell_type": "code",
   "execution_count": null,
   "metadata": {},
   "outputs": [],
   "source": [
    "pre"
   ]
  },
  {
   "cell_type": "code",
   "execution_count": null,
   "metadata": {},
   "outputs": [],
   "source": [
    "pre=[]"
   ]
  },
  {
   "cell_type": "code",
   "execution_count": null,
   "metadata": {},
   "outputs": [],
   "source": []
  }
 ],
 "metadata": {
  "colab": {
   "name": "crop_prediction .ipynb",
   "provenance": [],
   "toc_visible": true
  },
  "kernelspec": {
   "display_name": "Python 3",
   "language": "python",
   "name": "python3"
  },
  "language_info": {
   "codemirror_mode": {
    "name": "ipython",
    "version": 3
   },
   "file_extension": ".py",
   "mimetype": "text/x-python",
   "name": "python",
   "nbconvert_exporter": "python",
   "pygments_lexer": "ipython3",
   "version": "3.7.6"
  }
 },
 "nbformat": 4,
 "nbformat_minor": 1
}
